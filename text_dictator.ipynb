{
 "cells": [
  {
   "cell_type": "code",
   "execution_count": 1,
   "id": "87ac68a8",
   "metadata": {},
   "outputs": [],
   "source": [
    "import tkinter as tk\n",
    "from tkinter import filedialog\n",
    "import PyPDF2\n",
    "import pyttsx3 \n",
    "from time import sleep"
   ]
  },
  {
   "cell_type": "code",
   "execution_count": 2,
   "id": "aec51332",
   "metadata": {},
   "outputs": [],
   "source": [
    "t='hello'\n",
    "auth = False\n",
    "file_path = \"\"\n",
    "text_widget = None"
   ]
  },
  {
   "cell_type": "code",
   "execution_count": 3,
   "id": "1d4b9699",
   "metadata": {},
   "outputs": [],
   "source": [
    "a = tk.Tk()\n",
    "a.config(bg='#b5cef7')\n",
    "a.geometry(\"2200x1000\")\n",
    "a.title(\"Text Dictator\")\n",
    "a.grid_rowconfigure(1, weight=1)\n",
    "a.columnconfigure(0, weight=1)"
   ]
  },
  {
   "cell_type": "code",
   "execution_count": 4,
   "id": "73a2f34d",
   "metadata": {},
   "outputs": [],
   "source": [
    "def open_file_dialog():\n",
    "    global file_path\n",
    "    file_path = filedialog.askopenfilename(title=\"Select a Text File\")\n",
    "    print(file_path)"
   ]
  },
  {
   "cell_type": "code",
   "execution_count": 5,
   "id": "660a7e69",
   "metadata": {},
   "outputs": [],
   "source": [
    "def uploadpdf():\n",
    "    global auth\n",
    "    auth = False\n",
    "    btn2.config(state=\"disabled\")\n",
    "    upload_btn = tk.Button(\n",
    "        a,\n",
    "        text=\"CLICK TO UPLOAD\",\n",
    "        font=(\"Arial\", 12, \"bold\"),\n",
    "        fg=\"white\",\n",
    "        bg=\"#e74c3c\",\n",
    "        relief=\"groove\",\n",
    "        padx=15,\n",
    "        pady=10,\n",
    "        command=open_file_dialog\n",
    "    )\n",
    "    upload_btn.place(x=650, y=350)"
   ]
  },
  {
   "cell_type": "code",
   "execution_count": 6,
   "id": "17dfa272",
   "metadata": {},
   "outputs": [],
   "source": [
    "def entertext():\n",
    "    global auth\n",
    "    auth = True\n",
    "    global text_widget\n",
    "    text_widget = tk.Text(a, wrap=tk.WORD, font=(\"Arial\", 14), bg=\"lightgray\", fg=\"blue\", width=40, height=8)\n",
    "    text_widget.place(x=530, y=280)\n",
    "    btn1.config(state=\"disabled\")"
   ]
  },
  {
   "cell_type": "code",
   "execution_count": 7,
   "id": "93d014b1",
   "metadata": {},
   "outputs": [],
   "source": [
    "def dictate(text):\n",
    "    l = []\n",
    "    c = 0\n",
    "    t = ''\n",
    "    for i in list(text.split()):\n",
    "        c = c + 1\n",
    "        if c % 5 == 0:\n",
    "            l.append(t)\n",
    "            t = i\n",
    "            continue\n",
    "        else:\n",
    "            t = t + ' ' + i\n",
    "\n",
    "    engine = pyttsx3.init()\n",
    "    voices = engine.getProperty('voices')\n",
    "    engine.setProperty('voice', voices[1].id)\n",
    "    engine.setProperty('rate', 150)\n",
    "\n",
    "    def speak(x):\n",
    "        print(x)\n",
    "        engine.say(x)\n",
    "        engine.runAndWait()\n",
    "\n",
    "    for i in l:\n",
    "        \n",
    "#         lb3.config(text=i)\n",
    "#         a.after(100,update_label)\n",
    "        speak(i)\n",
    "        sleep(1.7)"
   ]
  },
  {
   "cell_type": "code",
   "execution_count": 8,
   "id": "5faf1b4b",
   "metadata": {},
   "outputs": [],
   "source": [
    "def read():\n",
    "    global file_path\n",
    "    if auth:\n",
    "        input_text = text_widget.get(\"1.0\", \"end-1c\")\n",
    "        dictate(input_text)\n",
    "    else:\n",
    "        if file_path:                                        \n",
    "            data=open(file_path,'rb')#creating a pdf file obj\n",
    "            reader=PyPDF2.PdfReader(data)\n",
    "            text=''\n",
    "            for i in range(len(reader.pages)):\n",
    "                text+=reader.pages[i].extract_text()\n",
    "#             print(text)\n",
    "#             data = open(file_path, 'rb')\n",
    "#             reader = PyPDF2.PdfReader(data)\n",
    "#             text = \"\"\n",
    "#             for i in range(len(reader.pages)):\n",
    "#                 text += reader.pages(i).extract_text()\n",
    "            data.close()\n",
    "            dictate(text)"
   ]
  },
  {
   "cell_type": "code",
   "execution_count": 9,
   "id": "74c79971",
   "metadata": {},
   "outputs": [],
   "source": [
    "lb1 = tk.Label(a, text='TEXT DICTATOR', font=('bold', 36), fg='black', bg='#b5cef7')\n",
    "lb1.grid(sticky=\"nsew\")\n",
    "\n",
    "lb2 = tk.Label(a, text=' ', font=('bold', 36), fg='black', bg='#b5cef7')\n",
    "lb2.grid(sticky=\"nsew\")\n",
    "\n",
    "submit_button = tk.Button(a, text=\"SUBMIT\", font=(\"Arial\", 12, \"bold\"), fg=\"white\", bg=\"#e74c3c\", relief=\"groove\", padx=15, pady=10, command=read)\n",
    "submit_button.place(x=680, y=500)"
   ]
  },
  {
   "cell_type": "code",
   "execution_count": 10,
   "id": "b467a5a0",
   "metadata": {},
   "outputs": [],
   "source": [
    "btn1 = tk.Button(\n",
    "    a,\n",
    "    text=\"UPLOAD FILE\",\n",
    "    font=(\"Arial\", 12, \"bold\"),\n",
    "    fg=\"white\",\n",
    "    bg=\"#e74c3c\",\n",
    "    relief=\"groove\",\n",
    "    padx=15,\n",
    "    pady=10,\n",
    "    command=uploadpdf\n",
    ")\n",
    "btn1.place(x=450, y=200)\n",
    "\n",
    "btn2 = tk.Button(a, text=\"ENTER TEXT\", command=entertext, font=(\"Arial\", 12, \"bold\"), fg=\"white\", bg=\"#e74c3c\", relief=\"groove\", padx=15, pady=10)\n",
    "btn2.place(x=850, y=200)\n",
    "lb3 = tk.Label(a, text='', font=('bold', 36), fg='black', bg='#b5cef7').place(x=680,y=600)\n"
   ]
  },
  {
   "cell_type": "code",
   "execution_count": 11,
   "id": "643d67a7",
   "metadata": {
    "scrolled": true
   },
   "outputs": [
    {
     "name": "stdout",
     "output_type": "stream",
     "text": [
      " Dummy text is text\n",
      "that is used as a\n",
      "filler or to compare the\n",
      "visual impression of different typefaces.\n",
      "It is used in the\n",
      "publishing industry or by web\n",
      "designers to occupy space that\n",
      "will later be filled with\n",
      "\"real\" content. Lorem ipsum is\n",
      "a famous dummy text that\n",
      "is scrambled Latin text. It\n",
      "is used in place of\n"
     ]
    },
    {
     "name": "stderr",
     "output_type": "stream",
     "text": [
      "Exception ignored in: <function BSTR.__del__ at 0x00000147C4B1DB40>\n",
      "Traceback (most recent call last):\n",
      "  File \"C:\\Users\\yenna\\AppData\\Roaming\\Python\\Python310\\site-packages\\comtypes\\__init__.py\", line 1043, in __del__\n",
      "    def __del__(self, _free=windll.oleaut32.SysFreeString):\n",
      "KeyboardInterrupt: \n"
     ]
    },
    {
     "name": "stdout",
     "output_type": "stream",
     "text": [
      "real text to give an\n",
      "example of what a printed\n",
      "page will look like when\n"
     ]
    }
   ],
   "source": [
    "a.mainloop()"
   ]
  },
  {
   "cell_type": "code",
   "execution_count": null,
   "id": "fca1783b",
   "metadata": {},
   "outputs": [],
   "source": []
  },
  {
   "cell_type": "code",
   "execution_count": null,
   "id": "d79b158c",
   "metadata": {},
   "outputs": [],
   "source": []
  },
  {
   "cell_type": "code",
   "execution_count": null,
   "id": "7859d99b",
   "metadata": {},
   "outputs": [],
   "source": []
  },
  {
   "cell_type": "code",
   "execution_count": null,
   "id": "8ea47969",
   "metadata": {},
   "outputs": [],
   "source": []
  },
  {
   "cell_type": "code",
   "execution_count": null,
   "id": "9246830b",
   "metadata": {},
   "outputs": [],
   "source": []
  },
  {
   "cell_type": "code",
   "execution_count": null,
   "id": "18440067",
   "metadata": {},
   "outputs": [],
   "source": []
  },
  {
   "cell_type": "code",
   "execution_count": null,
   "id": "d480c6c5",
   "metadata": {},
   "outputs": [],
   "source": []
  },
  {
   "cell_type": "code",
   "execution_count": null,
   "id": "172a79bc",
   "metadata": {},
   "outputs": [],
   "source": []
  },
  {
   "cell_type": "code",
   "execution_count": null,
   "id": "188f9b9d",
   "metadata": {},
   "outputs": [],
   "source": []
  },
  {
   "cell_type": "code",
   "execution_count": null,
   "id": "946045c3",
   "metadata": {},
   "outputs": [],
   "source": []
  },
  {
   "cell_type": "code",
   "execution_count": null,
   "id": "9a0c1ad5",
   "metadata": {},
   "outputs": [],
   "source": []
  },
  {
   "cell_type": "code",
   "execution_count": null,
   "id": "fd8a921d",
   "metadata": {},
   "outputs": [],
   "source": []
  },
  {
   "cell_type": "code",
   "execution_count": null,
   "id": "ba8852b7",
   "metadata": {},
   "outputs": [],
   "source": []
  },
  {
   "cell_type": "code",
   "execution_count": null,
   "id": "0583dfeb",
   "metadata": {},
   "outputs": [],
   "source": []
  },
  {
   "cell_type": "code",
   "execution_count": null,
   "id": "955563e0",
   "metadata": {},
   "outputs": [],
   "source": []
  },
  {
   "cell_type": "code",
   "execution_count": null,
   "id": "58304d59",
   "metadata": {},
   "outputs": [],
   "source": []
  },
  {
   "cell_type": "code",
   "execution_count": null,
   "id": "ec522f5a",
   "metadata": {},
   "outputs": [],
   "source": []
  },
  {
   "cell_type": "code",
   "execution_count": null,
   "id": "4f41cf55",
   "metadata": {},
   "outputs": [],
   "source": []
  },
  {
   "cell_type": "code",
   "execution_count": null,
   "id": "963bcbae",
   "metadata": {},
   "outputs": [],
   "source": []
  }
 ],
 "metadata": {
  "kernelspec": {
   "display_name": "Python 3 (ipykernel)",
   "language": "python",
   "name": "python3"
  },
  "language_info": {
   "codemirror_mode": {
    "name": "ipython",
    "version": 3
   },
   "file_extension": ".py",
   "mimetype": "text/x-python",
   "name": "python",
   "nbconvert_exporter": "python",
   "pygments_lexer": "ipython3",
   "version": "3.10.4"
  }
 },
 "nbformat": 4,
 "nbformat_minor": 5
}
